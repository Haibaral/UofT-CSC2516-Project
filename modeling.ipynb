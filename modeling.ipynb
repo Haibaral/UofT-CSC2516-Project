{
  "nbformat": 4,
  "nbformat_minor": 0,
  "metadata": {
    "colab": {
      "name": "Modeling.ipynb",
      "provenance": [],
      "collapsed_sections": []
    },
    "kernelspec": {
      "name": "python3",
      "display_name": "Python 3"
    },
    "accelerator": "GPU"
  },
  "cells": [
    {
      "cell_type": "code",
      "metadata": {
        "id": "jzl7zjfM_lCP",
        "colab_type": "code",
        "outputId": "dcb36ca7-6935-497b-abf4-8c3a1884f2bf",
        "colab": {
          "base_uri": "https://localhost:8080/",
          "height": 51
        }
      },
      "source": [
        "%cd 'drive/My Drive/2516Project'\n",
        "!ls"
      ],
      "execution_count": 0,
      "outputs": [
        {
          "output_type": "stream",
          "text": [
            "/content/drive/My Drive/2516Project\n",
            "data  elmo  glove  result  saved_models  saved_models_cnn\n"
          ],
          "name": "stdout"
        }
      ]
    },
    {
      "cell_type": "code",
      "metadata": {
        "id": "KE0o5fK0FGnl",
        "colab_type": "code",
        "colab": {}
      },
      "source": [
        "# !pip install allennlp"
      ],
      "execution_count": 0,
      "outputs": []
    },
    {
      "cell_type": "markdown",
      "metadata": {
        "id": "vmwOLYNi_yUT",
        "colab_type": "text"
      },
      "source": [
        "# Setting"
      ]
    },
    {
      "cell_type": "code",
      "metadata": {
        "id": "ou9ZLsUA_0Nk",
        "colab_type": "code",
        "outputId": "bf6afec8-d89b-4239-d634-5ae4aa1afb32",
        "colab": {
          "base_uri": "https://localhost:8080/",
          "height": 122
        }
      },
      "source": [
        "import re\n",
        "import numpy as np \n",
        "import pandas as pd \n",
        "import matplotlib.pyplot as plt\n",
        "from tqdm import tqdm\n",
        "from sklearn.feature_extraction.text import CountVectorizer\n",
        "from sklearn.linear_model import LogisticRegression\n",
        "from sklearn.neighbors import KNeighborsClassifier\n",
        "from sklearn.naive_bayes import GaussianNB\n",
        "from sklearn.dummy import DummyClassifier\n",
        "from sklearn import tree\n",
        "from sklearn.svm import SVC\n",
        "from sklearn.model_selection import StratifiedKFold\n",
        "from sklearn.ensemble import RandomForestClassifier, VotingClassifier\n",
        "from sklearn.model_selection import GridSearchCV\n",
        "from xgboost import XGBClassifier\n",
        "from nltk.sentiment.vader import SentimentIntensityAnalyzer\n",
        "from textblob import TextBlob\n",
        "import nltk\n",
        "from nltk.corpus import stopwords\n",
        "nltk.download(\"stopwords\")\n",
        "nltk.download('vader_lexicon')\n",
        "\n",
        "import ast\n",
        "from tensorflow.keras.preprocessing import sequence\n",
        "from sklearn.preprocessing import LabelEncoder\n",
        "from sklearn.model_selection import StratifiedKFold\n",
        "from tensorflow.keras.layers import Input, Flatten, Dense, Activation, Average, Dropout\n",
        "from tensorflow.keras.layers import Concatenate, Dropout, Conv1D, MaxPooling1D, BatchNormalization, LSTM, Bidirectional\n",
        "from tensorflow.keras.models import Model\n",
        "from tensorflow.keras import backend as K\n",
        "from tensorflow.keras.callbacks import ModelCheckpoint\n",
        "from argparse import ArgumentParser\n",
        "\n"
      ],
      "execution_count": 0,
      "outputs": [
        {
          "output_type": "stream",
          "text": [
            "/usr/local/lib/python3.6/dist-packages/nltk/twitter/__init__.py:20: UserWarning: The twython library has not been installed. Some functionality from the twitter package will not be available.\n",
            "  warnings.warn(\"The twython library has not been installed. \"\n"
          ],
          "name": "stderr"
        },
        {
          "output_type": "stream",
          "text": [
            "[nltk_data] Downloading package stopwords to /root/nltk_data...\n",
            "[nltk_data]   Unzipping corpora/stopwords.zip.\n",
            "[nltk_data] Downloading package vader_lexicon to /root/nltk_data...\n"
          ],
          "name": "stdout"
        }
      ]
    },
    {
      "cell_type": "code",
      "metadata": {
        "id": "UgIFm7Wk_0QF",
        "colab_type": "code",
        "colab": {}
      },
      "source": [
        "NGRAM_CUTOFF = 12\n",
        "SEED = 42\n",
        "MAX_LENGTH = 200\n",
        "EMBED_SIZE = 1024\n",
        "CORPUS_PATH = 'data/train.tsv'\n",
        "EMBED_PATH = 'data/elmo.tsv'"
      ],
      "execution_count": 0,
      "outputs": []
    },
    {
      "cell_type": "code",
      "metadata": {
        "id": "CYvM0vcY_0So",
        "colab_type": "code",
        "colab": {}
      },
      "source": [
        ""
      ],
      "execution_count": 0,
      "outputs": []
    },
    {
      "cell_type": "code",
      "metadata": {
        "id": "mbKkaIia_0VA",
        "colab_type": "code",
        "colab": {}
      },
      "source": [
        ""
      ],
      "execution_count": 0,
      "outputs": []
    },
    {
      "cell_type": "markdown",
      "metadata": {
        "id": "KlziAQ5z__1i",
        "colab_type": "text"
      },
      "source": [
        "# N-grams"
      ]
    },
    {
      "cell_type": "code",
      "metadata": {
        "id": "CKqLZKkVAPD2",
        "colab_type": "code",
        "colab": {}
      },
      "source": [
        "def df_to_corpus(df):\n",
        "    corpus = []\n",
        "    for i in range(len(df)):\n",
        "        corpus.append(df['title'][i] + ' ' + df['content'][i])\n",
        "    re_split = re.compile('^<splt>$')\n",
        "    re_num_simple = re.compile('^[-$]?[0-9.,]+([eE^][0-9]+)?(th)?$')\n",
        "    for i in range(len(corpus)):\n",
        "        curr_article = corpus[i].split(' ')\n",
        "        new_article = [re_num_simple.subn(\"<num>\", token)[0] for token in curr_article]\n",
        "        corpus[i] = ' '.join(new_article)\n",
        "    for i in range(len(corpus)):\n",
        "        curr_article = corpus[i].split(' ')\n",
        "        new_article = [re_split.subn(\" \", token)[0] for token in curr_article]\n",
        "        corpus[i] = ' '.join(new_article)\n",
        "    return corpus\n",
        "\n",
        "def corpus_vectorizition(corpus, cutoff, ngram_range=[1, 1]):\n",
        "    stop_words = set(stopwords.words('english'))\n",
        "    vectorizer = CountVectorizer(ngram_range=ngram_range, stop_words=stop_words)\n",
        "    vectors = vectorizer.fit_transform(corpus).toarray()\n",
        "\n",
        "    vectors_sum = vectors.sum(axis=0)\n",
        "    for i in list(vectorizer.vocabulary_.items()):\n",
        "        if vectors_sum[i[1]] < cutoff:\n",
        "            del vectorizer.vocabulary_[i[0]]\n",
        "\n",
        "    for i, key in enumerate(list(vectorizer.vocabulary_.keys())):\n",
        "        vectorizer.vocabulary_[key] = i\n",
        "\n",
        "    vectorizer = CountVectorizer(ngram_range=ngram_range, stop_words=stop_words, vocabulary=vectorizer.vocabulary_)\n",
        "    X = vectorizer.fit_transform(corpus).toarray()\n",
        "\n",
        "    return X"
      ],
      "execution_count": 0,
      "outputs": []
    },
    {
      "cell_type": "code",
      "metadata": {
        "id": "teCXCJanAIs0",
        "colab_type": "code",
        "outputId": "98c1cc43-b0d1-418b-c642-ac13de48726f",
        "colab": {
          "base_uri": "https://localhost:8080/",
          "height": 34
        }
      },
      "source": [
        "df = pd.read_csv(CORPUS_PATH, sep='\\t', header=None)\n",
        "df.rename(columns={0: 'id', 1: 'hyperpartisan', 4: 'content', 5: 'title'}, inplace=True)\n",
        "corpus = df_to_corpus(df)\n",
        "X = corpus_vectorizition(corpus, NGRAM_CUTOFF, ngram_range=[1, 2]) \n",
        "y = np.array(df['hyperpartisan'])\n",
        "X.shape "
      ],
      "execution_count": 0,
      "outputs": [
        {
          "output_type": "execute_result",
          "data": {
            "text/plain": [
              "(645, 4791)"
            ]
          },
          "metadata": {
            "tags": []
          },
          "execution_count": 5
        }
      ]
    },
    {
      "cell_type": "code",
      "metadata": {
        "id": "5gjk1NyTABqZ",
        "colab_type": "code",
        "outputId": "9bf34810-5548-47ad-d44a-e5e7dec583e4",
        "colab": {
          "base_uri": "https://localhost:8080/",
          "height": 102
        }
      },
      "source": [
        "svm = SVC(gamma='auto', kernel='linear', random_state=SEED)\n",
        "rf = RandomForestClassifier(n_estimators=150, random_state=SEED)\n",
        "lr = LogisticRegression(max_iter=300, random_state=SEED)\n",
        "xgb = XGBClassifier(n_estimators=150, random_state=SEED)\n",
        "eclf1 = VotingClassifier(estimators=[ ('rf', rf), ('lr', lr), ('xgb', xgb)], voting='hard')\n",
        "\n",
        "svm_accuracy_list = []\n",
        "rf_accuracy_list = []\n",
        "lr_accuracy_list = []\n",
        "xgb_accuracy_list = []\n",
        "eclf1_accuracy_list = []\n",
        "\n",
        "\n",
        "i = 0\n",
        "for train, val in kfold.split(X, y):\n",
        "    i += 1\n",
        "\n",
        "    X_train, y_train, X_val, y_val = X[train], y[train], X[val], y[val]\n",
        "\n",
        "    svm_clf = svm.fit(X_train, y_train)\n",
        "    svm_preds = svm_clf.predict(X_val)\n",
        "    svm_accuracy_list.append(np.mean(svm_preds == y_val))\n",
        "    \n",
        "    rf_clf = rf.fit(X_train, y_train)\n",
        "    rf_preds = rf_clf.predict(X_val)\n",
        "    rf_accuracy_list.append(np.mean(rf_preds == y_val))\n",
        "    \n",
        "    lr_clf = lr.fit(X_train, y_train)\n",
        "    lr_preds = lr_clf.predict(X_val)\n",
        "    lr_accuracy_list.append(np.mean(lr_preds == y_val))\n",
        "\n",
        "    xgb_clf = xgb.fit(X_train, y_train)\n",
        "    xgb_preds = xgb_clf.predict(X_val)\n",
        "    xgb_accuracy_list.append(np.mean(xgb_preds == y_val))\n",
        "\n",
        "    eclf1_clf = eclf1.fit(X_train, y_train)\n",
        "    eclf1_preds = eclf1.predict(X_val)\n",
        "    eclf1_accuracy_list.append(np.mean(eclf1_preds == y_val))\n",
        "\n",
        "svm_accuracy = np.mean(svm_accuracy_list)\n",
        "rf_accuracy = np.mean(rf_accuracy_list)\n",
        "lr_accuracy = np.mean(lr_accuracy_list)\n",
        "xgb_accuracy = np.mean(xgb_accuracy_list)\n",
        "eclf1_accuracy = np.mean(eclf1_accuracy_list)\n",
        "\n",
        "print('SVM accuracy', svm_accuracy)\n",
        "print('Random Forest accuracy', rf_accuracy)\n",
        "print('Logistic Regression accuracy', lr_accuracy)\n",
        "print('XGBoost accuracy', xgb_accuracy)\n",
        "print('Ensemble accuracy', eclf1_accuracy)"
      ],
      "execution_count": 0,
      "outputs": [
        {
          "output_type": "stream",
          "text": [
            "SVM accuracy 0.7380288461538462\n",
            "Random Forest accuracy 0.7533894230769231\n",
            "Logistic Regression accuracy 0.7535336538461539\n",
            "XGBoost accuracy 0.7752163461538462\n",
            "Ensemble accuracy 0.7689663461538461\n"
          ],
          "name": "stdout"
        }
      ]
    },
    {
      "cell_type": "code",
      "metadata": {
        "id": "QmChdxLnABsx",
        "colab_type": "code",
        "colab": {}
      },
      "source": [
        ""
      ],
      "execution_count": 0,
      "outputs": []
    },
    {
      "cell_type": "markdown",
      "metadata": {
        "id": "tpisY2lfBok0",
        "colab_type": "text"
      },
      "source": [
        "# Sentiment Analysis"
      ]
    },
    {
      "cell_type": "code",
      "metadata": {
        "id": "xk6rzRfBB2R5",
        "colab_type": "code",
        "colab": {}
      },
      "source": [
        "df = pd.read_csv(CORPUS_PATH, sep='\\t', header=None)\n",
        "df.rename(columns={0: 'id', 1: 'hyperpartisan', 4: 'content', 5: 'title'}, inplace=True)\n",
        "corpus = df_to_corpus(df)\n",
        "sid = SentimentIntensityAnalyzer()\n",
        "X = []\n",
        "for article in corpus:\n",
        "    blob = TextBlob(article)\n",
        "    scores = sid.polarity_scores(article)\n",
        "    s = list(scores.values())\n",
        "    s.extend(list(blob.sentiment))\n",
        "    X.append(s)\n",
        "X = np.array(X)\n",
        "y = np.array(df['hyperpartisan'])"
      ],
      "execution_count": 0,
      "outputs": []
    },
    {
      "cell_type": "code",
      "metadata": {
        "id": "UypOb5Y5B2UX",
        "colab_type": "code",
        "outputId": "ea888590-4da9-461e-f9ca-b4206c5766a4",
        "colab": {
          "base_uri": "https://localhost:8080/",
          "height": 102
        }
      },
      "source": [
        "svm = SVC(gamma='auto', kernel='linear', random_state=SEED)\n",
        "rf = RandomForestClassifier(n_estimators=150, random_state=SEED)\n",
        "lr = LogisticRegression(max_iter=300, random_state=SEED)\n",
        "xgb = XGBClassifier(n_estimators=150, random_state=SEED)\n",
        "eclf1 = VotingClassifier(estimators=[ ('rf', rf), ('lr', lr), ('xgb', xgb)], voting='hard')\n",
        "\n",
        "svm_accuracy_list = []\n",
        "rf_accuracy_list = []\n",
        "lr_accuracy_list = []\n",
        "xgb_accuracy_list = []\n",
        "eclf1_accuracy_list = []\n",
        "\n",
        "\n",
        "i = 0\n",
        "for train, val in kfold.split(X, y):\n",
        "    i += 1\n",
        "\n",
        "    X_train, y_train, X_val, y_val = X[train], y[train], X[val], y[val]\n",
        "\n",
        "    svm_clf = svm.fit(X_train, y_train)\n",
        "    svm_preds = svm_clf.predict(X_val)\n",
        "    svm_accuracy_list.append(np.mean(svm_preds == y_val))\n",
        "    \n",
        "    rf_clf = rf.fit(X_train, y_train)\n",
        "    rf_preds = rf_clf.predict(X_val)\n",
        "    rf_accuracy_list.append(np.mean(rf_preds == y_val))\n",
        "    \n",
        "    lr_clf = lr.fit(X_train, y_train)\n",
        "    lr_preds = lr_clf.predict(X_val)\n",
        "    lr_accuracy_list.append(np.mean(lr_preds == y_val))\n",
        "\n",
        "    xgb_clf = xgb.fit(X_train, y_train)\n",
        "    xgb_preds = xgb_clf.predict(X_val)\n",
        "    xgb_accuracy_list.append(np.mean(xgb_preds == y_val))\n",
        "\n",
        "    eclf1_clf = eclf1.fit(X_train, y_train)\n",
        "    eclf1_preds = eclf1.predict(X_val)\n",
        "    eclf1_accuracy_list.append(np.mean(eclf1_preds == y_val))\n",
        "\n",
        "svm_accuracy = np.mean(svm_accuracy_list)\n",
        "rf_accuracy = np.mean(rf_accuracy_list)\n",
        "lr_accuracy = np.mean(lr_accuracy_list)\n",
        "xgb_accuracy = np.mean(xgb_accuracy_list)\n",
        "eclf1_accuracy = np.mean(eclf1_accuracy_list)\n",
        "\n",
        "print('SVM accuracy', svm_accuracy)\n",
        "print('Random Forest accuracy', rf_accuracy)\n",
        "print('Logistic Regression accuracy', lr_accuracy)\n",
        "print('XGBoost accuracy', xgb_accuracy)\n",
        "print('Ensemble accuracy', eclf1_accuracy)"
      ],
      "execution_count": 0,
      "outputs": [
        {
          "output_type": "stream",
          "text": [
            "SVM accuracy 0.6310096153846153\n",
            "Random Forest accuracy 0.6881009615384616\n",
            "Logistic Regression accuracy 0.6371874999999999\n",
            "XGBoost accuracy 0.7021153846153846\n",
            "Ensemble accuracy 0.6974519230769232\n"
          ],
          "name": "stdout"
        }
      ]
    },
    {
      "cell_type": "markdown",
      "metadata": {
        "id": "KshFRdLLCyTD",
        "colab_type": "text"
      },
      "source": [
        "# ELMo"
      ]
    },
    {
      "cell_type": "code",
      "metadata": {
        "id": "gRf5aIbfHepJ",
        "colab_type": "code",
        "colab": {}
      },
      "source": [
        "def load_pretrained(path, max_length=200):\n",
        "    X, all_label = [], []\n",
        "    i = 0\n",
        "    label_encoder = LabelEncoder()\n",
        "    with open(path, 'rb') as f:\n",
        "        for line in f:\n",
        "            fields = line.decode('utf-8').split('\\t')\n",
        "            label = fields[1]\n",
        "            embedding_list = ast.literal_eval(fields[4].strip())\n",
        "            embedding_array = np.array(embedding_list)\n",
        "            padded_sequences = sequence.pad_sequences([embedding_array], maxlen=max_length, dtype='float32')[0]\n",
        "            X.append(padded_sequences)\n",
        "            all_label.append(label)\n",
        "            i += 1\n",
        "    Y = label_encoder.fit_transform(all_label)\n",
        "\n",
        "    return np.array(X), np.array(Y)"
      ],
      "execution_count": 0,
      "outputs": []
    },
    {
      "cell_type": "code",
      "metadata": {
        "id": "NaqFvCCIZN86",
        "colab_type": "code",
        "colab": {}
      },
      "source": [
        "def train_network(model_name): \n",
        "    kfold = StratifiedKFold(n_splits=10, shuffle=True, random_state=SEED)\n",
        "    cv_scores = []\n",
        "    i = 0\n",
        "    for train, val in kfold.split(X_data, y_data):\n",
        "        i += 1\n",
        "        print(\"current fold is : {}\".format(i))\n",
        "        model = model_name(max_length=MAX_LENGTH, embed_size=EMBED_SIZE)\n",
        "        history = model.fit(X_data[train], y_data[train], batch_size=32, verbose=0, epochs=30,\n",
        "                validation_data=(X_data[val], y_data[val]))\n",
        "        cv_scores.append(history.history['val_acc'][-1])\n",
        "        K.clear_session()\n",
        "\n",
        "    print(\"Final score: {:.4} (+/- {:.4})\".format(np.mean(cv_scores), np.std(cv_scores)))"
      ],
      "execution_count": 0,
      "outputs": []
    },
    {
      "cell_type": "code",
      "metadata": {
        "id": "MjBIEQZGHIUo",
        "colab_type": "code",
        "outputId": "8e330fd8-2ab7-4d3e-9692-bc51e355845a",
        "colab": {
          "base_uri": "https://localhost:8080/",
          "height": 34
        }
      },
      "source": [
        "X_data, y_data  = load_pretrained(path=EMBED_PATH, max_length=MAX_LENGTH)\n",
        "X_data.shape "
      ],
      "execution_count": 0,
      "outputs": [
        {
          "output_type": "execute_result",
          "data": {
            "text/plain": [
              "(645, 200, 1024)"
            ]
          },
          "metadata": {
            "tags": []
          },
          "execution_count": 8
        }
      ]
    },
    {
      "cell_type": "markdown",
      "metadata": {
        "id": "Muq0gMEEGBT6",
        "colab_type": "text"
      },
      "source": [
        "# Feedforward Networks"
      ]
    },
    {
      "cell_type": "code",
      "metadata": {
        "id": "fbjb4lN6E_uf",
        "colab_type": "code",
        "colab": {}
      },
      "source": [
        "def feedforward(max_length, embed_size):\n",
        "    inputs = Input(shape=(max_length, embed_size), dtype='float32')\n",
        "    drop1 = Dropout(rate=0)(inputs)\n",
        "    dense1 = Dense(300, activation='relu')(drop1)\n",
        "    bn_1 = BatchNormalization(momentum=0.7)(dense1)\n",
        "    drop2 = Dropout(rate=0.2)(bn_1)\n",
        "    dense2 = Dense(100, activation='relu')(drop2)\n",
        "    bn_2 = BatchNormalization(momentum=0.7)(dense2)\n",
        "    drop3 = Dropout(rate=0.2)(bn_2)\n",
        "    flatten = Flatten()(drop3)\n",
        "    output = Dense(1, activation='sigmoid')(flatten)\n",
        "\n",
        "    model = Model(inputs=inputs, outputs=output)\n",
        "    model.compile(loss='binary_crossentropy', metrics=['acc'], optimizer='adam')\n",
        "    return model"
      ],
      "execution_count": 0,
      "outputs": []
    },
    {
      "cell_type": "code",
      "metadata": {
        "id": "bnal2aw8Gh5P",
        "colab_type": "code",
        "outputId": "eaab7759-368a-418a-b10e-7bcf540eb711",
        "colab": {
          "base_uri": "https://localhost:8080/",
          "height": 204
        }
      },
      "source": [
        "train_network(feedforward)\n"
      ],
      "execution_count": 0,
      "outputs": [
        {
          "output_type": "stream",
          "text": [
            "current fold is : 1 \n",
            "current fold is : 2 \n",
            "current fold is : 3 \n",
            "current fold is : 4 \n",
            "current fold is : 5 \n",
            "current fold is : 6 \n",
            "current fold is : 7 \n",
            "current fold is : 8 \n",
            "current fold is : 9 \n",
            "current fold is : 10 \n",
            "Final score: 0.8280% (+/- 0.0344%)\n"
          ],
          "name": "stdout"
        }
      ]
    },
    {
      "cell_type": "code",
      "metadata": {
        "id": "pRSrYn2dRsRd",
        "colab_type": "code",
        "colab": {}
      },
      "source": [
        ""
      ],
      "execution_count": 0,
      "outputs": []
    },
    {
      "cell_type": "code",
      "metadata": {
        "id": "Hu44mxF0XTvI",
        "colab_type": "code",
        "colab": {}
      },
      "source": [
        ""
      ],
      "execution_count": 0,
      "outputs": []
    },
    {
      "cell_type": "code",
      "metadata": {
        "id": "XoCJm5HgXTx5",
        "colab_type": "code",
        "colab": {}
      },
      "source": [
        ""
      ],
      "execution_count": 0,
      "outputs": []
    },
    {
      "cell_type": "markdown",
      "metadata": {
        "id": "G9cpM_9YXUAX",
        "colab_type": "text"
      },
      "source": [
        "# LSTM"
      ]
    },
    {
      "cell_type": "code",
      "metadata": {
        "id": "1YwyBXRXXXPf",
        "colab_type": "code",
        "colab": {}
      },
      "source": [
        "def LSTM_model(max_length, embed_size):\n",
        "    inputs = Input(shape=(max_length, embed_size), dtype='float32')\n",
        "    lstm1 = LSTM(300, return_sequences=True)(inputs)\n",
        "    drop1 = Dropout(0.1)(lstm1)\n",
        "    lstm2 = LSTM(300, return_sequences=True)(drop1)\n",
        "    drop2 = Dropout(0.1)(lstm2)\n",
        "    flatten = Flatten()(drop2)\n",
        "    output = Dense(1, activation='sigmoid')(flatten)\n",
        "    \n",
        "    model = Model(inputs=inputs, outputs=output)\n",
        "    model.compile(loss='binary_crossentropy', metrics=['acc'], optimizer='adam')\n",
        "    return model"
      ],
      "execution_count": 0,
      "outputs": []
    },
    {
      "cell_type": "code",
      "metadata": {
        "id": "rwdcabUOXXUB",
        "colab_type": "code",
        "outputId": "23ecefef-6358-45e1-9b39-d37854b7ded9",
        "colab": {
          "base_uri": "https://localhost:8080/",
          "height": 374
        }
      },
      "source": [
        "train_network(LSTM_model)"
      ],
      "execution_count": 0,
      "outputs": [
        {
          "output_type": "stream",
          "text": [
            "current fold is : 1 \n",
            "Current Fold Score: 0.7692\n",
            "current fold is : 2 \n",
            "Current Fold Score: 0.8000\n",
            "current fold is : 3 \n",
            "Current Fold Score: 0.8154\n",
            "current fold is : 4 \n",
            "Current Fold Score: 0.8462\n",
            "current fold is : 5 \n",
            "Current Fold Score: 0.8308\n",
            "current fold is : 6 \n",
            "Current Fold Score: 0.8281\n",
            "current fold is : 7 \n",
            "Current Fold Score: 0.9062\n",
            "current fold is : 8 \n",
            "Current Fold Score: 0.7500\n",
            "current fold is : 9 \n",
            "Current Fold Score: 0.8906\n",
            "current fold is : 10 \n",
            "Current Fold Score: 0.7812\n",
            "Final score: 0.8218% (+/- 0.0476%)\n"
          ],
          "name": "stdout"
        }
      ]
    },
    {
      "cell_type": "code",
      "metadata": {
        "id": "lfmdNZb9Y-Tn",
        "colab_type": "code",
        "colab": {}
      },
      "source": [
        "def BiLSTM_model(max_length, embed_size):\n",
        "    inputs = Input(shape=(max_length, embed_size), dtype='float32')\n",
        "    lstm1 = Bidirectional(LSTM(300, return_sequences=True))(inputs)\n",
        "    drop1 = Dropout(0.1)(lstm1)\n",
        "    lstm2 = Bidirectional(LSTM(300, return_sequences=True))(drop1)\n",
        "    drop2 = Dropout(0.1)(lstm2)\n",
        "    flatten = Flatten()(drop2)\n",
        "    output = Dense(1, activation='sigmoid')(flatten)\n",
        "    \n",
        "    model = Model(inputs=inputs, outputs=output)\n",
        "    model.compile(loss='binary_crossentropy', metrics=['acc'], optimizer='adam')\n",
        "    return model"
      ],
      "execution_count": 0,
      "outputs": []
    },
    {
      "cell_type": "code",
      "metadata": {
        "id": "crcBdIlLccxA",
        "colab_type": "code",
        "outputId": "c86d15ed-66fb-40be-eb26-f8abac917d71",
        "colab": {
          "base_uri": "https://localhost:8080/",
          "height": 374
        }
      },
      "source": [
        "train_network(BiLSTM_model)"
      ],
      "execution_count": 0,
      "outputs": [
        {
          "output_type": "stream",
          "text": [
            "current fold is : 1 \n",
            "Current Fold Score: 0.8154\n",
            "current fold is : 2 \n",
            "Current Fold Score: 0.7846\n",
            "current fold is : 3 \n",
            "Current Fold Score: 0.8769\n",
            "current fold is : 4 \n",
            "Current Fold Score: 0.8615\n",
            "current fold is : 5 \n",
            "Current Fold Score: 0.8308\n",
            "current fold is : 6 \n",
            "Current Fold Score: 0.8125\n",
            "current fold is : 7 \n",
            "Current Fold Score: 0.9219\n",
            "current fold is : 8 \n",
            "Current Fold Score: 0.8281\n",
            "current fold is : 9 \n",
            "Current Fold Score: 0.8281\n",
            "current fold is : 10 \n",
            "Current Fold Score: 0.8125\n",
            "Final score: 0.8372% (+/- 0.0374%)\n"
          ],
          "name": "stdout"
        }
      ]
    },
    {
      "cell_type": "markdown",
      "metadata": {
        "id": "VO9AYU0sZpEk",
        "colab_type": "text"
      },
      "source": [
        "# CNN"
      ]
    },
    {
      "cell_type": "code",
      "metadata": {
        "id": "yvAsRIlHZkHF",
        "colab_type": "code",
        "colab": {}
      },
      "source": [
        "def CNN_model(max_length, embed_size):\n",
        "    filter_sizes = [2, 3, 4, 5, 6]\n",
        "    num_filters = 128\n",
        "    inputs = Input(shape=(max_length, embed_size), dtype='float32')\n",
        "\n",
        "    conv0 = Conv1D(num_filters, kernel_size=(filter_sizes[0]))(inputs)\n",
        "    conv1 = Conv1D(num_filters, kernel_size=(filter_sizes[1]))(inputs)\n",
        "    conv2 = Conv1D(num_filters, kernel_size=(filter_sizes[2]))(inputs)\n",
        "    conv3 = Conv1D(num_filters, kernel_size=(filter_sizes[3]))(inputs)\n",
        "    conv4 = Conv1D(num_filters, kernel_size=(filter_sizes[4]))(inputs)\n",
        "\n",
        "    act0 = Activation('relu')(conv0)\n",
        "    act1 = Activation('relu')(conv1)\n",
        "    act2 = Activation('relu')(conv2)\n",
        "    act3 = Activation('relu')(conv3)\n",
        "    act4 = Activation('relu')(conv4)\n",
        "\n",
        "    bn0 = BatchNormalization(momentum=0.7)(act0)\n",
        "    bn1 = BatchNormalization(momentum=0.7)(act1)\n",
        "    bn2 = BatchNormalization(momentum=0.7)(act2)\n",
        "    bn3 = BatchNormalization(momentum=0.7)(act3)\n",
        "    bn4 = BatchNormalization(momentum=0.7)(act4)\n",
        "\n",
        "    maxpool0 = MaxPooling1D(pool_size=(max_length - filter_sizes[0]))(bn0)\n",
        "    maxpool1 = MaxPooling1D(pool_size=(max_length - filter_sizes[1]))(bn1)\n",
        "    maxpool2 = MaxPooling1D(pool_size=(max_length - filter_sizes[2]))(bn2)\n",
        "    maxpool3 = MaxPooling1D(pool_size=(max_length - filter_sizes[3]))(bn3)\n",
        "    maxpool4 = MaxPooling1D(pool_size=(max_length - filter_sizes[4]))(bn4)\n",
        "\n",
        "    concatenated_tensor = Concatenate()([maxpool0, maxpool1, \n",
        "                                         maxpool2, maxpool3, maxpool4])\n",
        "    flatten = Flatten()(concatenated_tensor)\n",
        "    output = Dense(units=1, activation='sigmoid')(flatten)\n",
        "\n",
        "    model = Model(inputs=inputs, outputs=output)\n",
        "    model.compile(loss='binary_crossentropy', metrics=['acc'], optimizer='adam')\n",
        "    return model"
      ],
      "execution_count": 0,
      "outputs": []
    },
    {
      "cell_type": "code",
      "metadata": {
        "id": "dIcS0nJ8hQFx",
        "colab_type": "code",
        "outputId": "a698597b-3198-4a86-fc99-3b7603a9347a",
        "colab": {
          "base_uri": "https://localhost:8080/",
          "height": 204
        }
      },
      "source": [
        "train_network(CNN_model)"
      ],
      "execution_count": 0,
      "outputs": [
        {
          "output_type": "stream",
          "text": [
            "current fold is : 1 \n",
            "current fold is : 2 \n",
            "current fold is : 3 \n",
            "current fold is : 4 \n",
            "current fold is : 5 \n",
            "current fold is : 6 \n",
            "current fold is : 7 \n",
            "current fold is : 8 \n",
            "current fold is : 9 \n",
            "current fold is : 10 \n",
            "Final score: 0.8095 (+/- 0.04821)\n"
          ],
          "name": "stdout"
        }
      ]
    },
    {
      "cell_type": "markdown",
      "metadata": {
        "id": "e_w0qrQbnsT-",
        "colab_type": "text"
      },
      "source": [
        "# Overfitting Investigation"
      ]
    },
    {
      "cell_type": "code",
      "metadata": {
        "id": "LbbOYb84hSuT",
        "colab_type": "code",
        "colab": {}
      },
      "source": [
        "def pipeline(X, y):\n",
        "    def sigmoid_to_binary(preds):\n",
        "        result = []\n",
        "        for p in preds:\n",
        "            if p > 0.5:\n",
        "                result.append(1)\n",
        "            else:\n",
        "                result.append(0)\n",
        "        return result \n",
        "\n",
        "    cv_scores = []\n",
        "    models = []\n",
        "    for train, val in kfold.split(X, y):\n",
        "        model = feedforward(max_length=EMBED_SIZE, embed_size=EMBED_SIZE)\n",
        "        history = model.fit(X[train], y[train], batch_size=32, verbose=0, epochs=30,\n",
        "                validation_data=(X[val], y[val])) \n",
        "        models.append(model)\n",
        "        cv_scores.append(history.history['val_acc'][-1])\n",
        "        K.clear_session()\n",
        "\n",
        "    print('Training size: {}'.format(len(X)))\n",
        "    print(\"Final score: {:.4} (+/- {:.4})\".format(np.mean(cv_scores), np.std(cv_scores)))\n",
        "    top3_indicies = sorted( [i for (i, x) in enumerate(cv_scores)], reverse=True)[:3]\n",
        "    model1, model2, model3 = np.array(models)[top3_indicies]\n",
        "\n",
        "    preds1, preds2, preds3 = model1.predict(X_test), model2.predict(X_test), model3.predict(X_test)\n",
        "    preds1, preds2, preds3 = sigmoid_to_binary(preds1), sigmoid_to_binary(preds2), sigmoid_to_binary(preds3)\n",
        "    acc1, acc2, acc3 = np.mean(preds1 == y_test), np.mean(preds2 == y_test), np.mean(preds3 == y_test)\n",
        "\n",
        "    print('Test score of the best 3 models is {:.4}', np.mean([acc1, acc2, acc3]))\n",
        "\n"
      ],
      "execution_count": 0,
      "outputs": []
    },
    {
      "cell_type": "code",
      "metadata": {
        "id": "CQZPf8X_sB9_",
        "colab_type": "code",
        "colab": {}
      },
      "source": [
        "permutation = np.random.permutation(645)\n",
        "X_new, y_new = X_data[permutation], y_data[permutation]\n",
        "num_test = 80\n",
        "X_test, y_test = X_new[:num_test], y_new[:num_test]\n",
        "X50, y50 = X_new[num_test: num_test+50], y_new[num_test: num_test+50]\n",
        "X100, y100 = X_new[num_test: num_test+100], y_new[num_test: num_test+100]\n",
        "X200, y200 = X_new[num_test: num_test+200], y_new[num_test: num_test+200]\n",
        "X350, y350 = X_new[num_test: num_test+350], y_new[num_test: num_test+350]\n",
        "X565, y565 = X_new[num_test: num_test+565], y_new[num_test: num_test+565]"
      ],
      "execution_count": 0,
      "outputs": []
    },
    {
      "cell_type": "code",
      "metadata": {
        "id": "LU3PN1-uxbmb",
        "colab_type": "code",
        "outputId": "d7bc1dd0-b563-4fee-d73d-340edbbc8044",
        "colab": {
          "base_uri": "https://localhost:8080/",
          "height": 68
        }
      },
      "source": [
        "pipeline(X50, y50)"
      ],
      "execution_count": 0,
      "outputs": [
        {
          "output_type": "stream",
          "text": [
            "Training size: 50\n",
            "Final score: 0.6800% (+/- 0.1327%)\n",
            "Test score of the best 3 models is {:.4} 0.7333333333333334\n"
          ],
          "name": "stdout"
        }
      ]
    },
    {
      "cell_type": "code",
      "metadata": {
        "id": "79YppAz5vebK",
        "colab_type": "code",
        "outputId": "9fe1d543-c926-4212-fb99-5f732439a8e4",
        "colab": {
          "base_uri": "https://localhost:8080/",
          "height": 68
        }
      },
      "source": [
        "pipeline(X100, y100)"
      ],
      "execution_count": 0,
      "outputs": [
        {
          "output_type": "stream",
          "text": [
            "Training size: 100\n",
            "Final score: 0.7600% (+/- 0.1114%)\n",
            "Test score of the best 3 models is {:.4} 0.7416666666666667\n"
          ],
          "name": "stdout"
        }
      ]
    },
    {
      "cell_type": "code",
      "metadata": {
        "id": "RmByuYc6qYBg",
        "colab_type": "code",
        "outputId": "6da08e02-538f-4075-9f02-d8fc4de6247c",
        "colab": {
          "base_uri": "https://localhost:8080/",
          "height": 68
        }
      },
      "source": [
        "pipeline(X200, y200)"
      ],
      "execution_count": 0,
      "outputs": [
        {
          "output_type": "stream",
          "text": [
            "Training size: 200\n",
            "Final score: 0.7600% (+/- 0.1068%)\n",
            "Test score of the best 3 models is {:.4} 0.8083333333333332\n"
          ],
          "name": "stdout"
        }
      ]
    },
    {
      "cell_type": "code",
      "metadata": {
        "id": "kU75Jdw1pmw9",
        "colab_type": "code",
        "outputId": "7f68e477-e10e-4b4c-8678-f1c63da442a8",
        "colab": {
          "base_uri": "https://localhost:8080/",
          "height": 68
        }
      },
      "source": [
        "pipeline(X350, y350)"
      ],
      "execution_count": 0,
      "outputs": [
        {
          "output_type": "stream",
          "text": [
            "Training size: 350\n",
            "Final score: 0.8029% (+/- 0.0645%)\n",
            "Test score of the best 3 models is {:.4} 0.8083333333333332\n"
          ],
          "name": "stdout"
        }
      ]
    },
    {
      "cell_type": "code",
      "metadata": {
        "id": "tUJKpUN3hbPs",
        "colab_type": "code",
        "outputId": "876a2a36-0619-4df8-ba59-5254bd029a9d",
        "colab": {
          "base_uri": "https://localhost:8080/",
          "height": 68
        }
      },
      "source": [
        "pipeline(X565, y565)"
      ],
      "execution_count": 0,
      "outputs": [
        {
          "output_type": "stream",
          "text": [
            "Training size: 565\n",
            "Final score: 0.8106% (+/- 0.0441%)\n",
            "Test score of the best 3 models is {:.4} 0.8333333333333334\n"
          ],
          "name": "stdout"
        }
      ]
    },
    {
      "cell_type": "code",
      "metadata": {
        "id": "l4HxlalhyWpX",
        "colab_type": "code",
        "colab": {}
      },
      "source": [
        "num_training = [50, 100, 200, 350, 565]\n",
        "val_scores = [0.6800, 0.7600, 0.7600, 0.8029, 0.8106]\n",
        "test_scores = [0.7333, 0.7416, 0.8083, 0.8083, 0.8333]"
      ],
      "execution_count": 0,
      "outputs": []
    },
    {
      "cell_type": "code",
      "metadata": {
        "id": "7BT-QQ6azQk6",
        "colab_type": "code",
        "outputId": "6f6b6fdc-2747-480f-e074-6b0a14ec077b",
        "colab": {
          "base_uri": "https://localhost:8080/",
          "height": 282
        }
      },
      "source": [
        "plt.plot(num_training, val_scores, label='validation')\n",
        "plt.plot(num_training, test_scores, label='test')\n",
        "plt.xlabel(\"Training Size\")\n",
        "plt.legend()\n",
        "plt.show()"
      ],
      "execution_count": 0,
      "outputs": [
        {
          "output_type": "display_data",
          "data": {
            "image/png": "[encoded data removed]",
            "text/plain": [
              "<Figure size 432x288 with 1 Axes>"
            ]
          },
          "metadata": {
            "tags": [],
            "needs_background": "light"
          }
        }
      ]
    },
    {
      "cell_type": "code",
      "metadata": {
        "id": "0Cjbl4BOzUc_",
        "colab_type": "code",
        "colab": {}
      },
      "source": [
        ""
      ],
      "execution_count": 0,
      "outputs": []
    }
  ]
}